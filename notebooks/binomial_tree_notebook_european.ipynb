{
 "cells": [
  {
   "cell_type": "code",
   "execution_count": 1,
   "metadata": {},
   "outputs": [],
   "source": [
    "import sys\n",
    "import os\n",
    "sys.path.insert(0, 'd:\\\\github\\\\derivpricer\\\\optionspricer')\n",
    "sys.path\n",
    "import numpy as np\n",
    "\n",
    "from optionspricer.european_pricer.binomial_tree import BinomialTreeEuropean\n",
    "from optionspricer.european_pricer.explicit_formulae import BSMFormulae"
   ]
  },
  {
   "cell_type": "code",
   "execution_count": 2,
   "metadata": {},
   "outputs": [],
   "source": [
    "# Option parameters\n",
    "\n",
    "S = 100.0  # Current price of the underlying asset\n",
    "K = 110.0  # Strike price of the option\n",
    "r = 0.05  # Risk-free interest rate\n",
    "sigma = 0.2  # Volatility of the underlying asset\n",
    "T = 365  # Time to maturity of the option specified in days\n",
    "steps = 1000\n",
    "q = 0.2\n"
   ]
  },
  {
   "cell_type": "code",
   "execution_count": 3,
   "metadata": {},
   "outputs": [
    {
     "data": {
      "text/plain": [
       "10.675324824802793"
      ]
     },
     "execution_count": 3,
     "metadata": {},
     "output_type": "execute_result"
    }
   ],
   "source": [
    "BS_price = BSMFormulae(S, K, r, T, sigma, q, option_type='call')\n",
    "BS_price.price"
   ]
  },
  {
   "cell_type": "code",
   "execution_count": 4,
   "metadata": {},
   "outputs": [
    {
     "data": {
      "text/plain": [
       "1.1974808370936374"
      ]
     },
     "execution_count": 4,
     "metadata": {},
     "output_type": "execute_result"
    }
   ],
   "source": [
    "bt = BinomialTreeEuropean(S, K, r, T, sigma, steps, q, option_type='call')\n",
    "bt.price"
   ]
  }
 ],
 "metadata": {
  "kernelspec": {
   "display_name": "optionspricerenv",
   "language": "python",
   "name": "python3"
  },
  "language_info": {
   "codemirror_mode": {
    "name": "ipython",
    "version": 3
   },
   "file_extension": ".py",
   "mimetype": "text/x-python",
   "name": "python",
   "nbconvert_exporter": "python",
   "pygments_lexer": "ipython3",
   "version": "3.12.4"
  }
 },
 "nbformat": 4,
 "nbformat_minor": 2
}
